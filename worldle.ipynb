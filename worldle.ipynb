{
 "cells": [
  {
   "cell_type": "code",
   "execution_count": null,
   "metadata": {},
   "outputs": [],
   "source": [
    "def verificar_linea (palabra_ingresada, palabra_correcta):\n",
    "    letras_verificadas = []\n",
    "    for posicion in range(len(palabra_ingresada)):\n",
    "        if palabra_ingresada[posicion]== palabra_correcta[posicion]:\n",
    "            letras_verificadas.append(f\"[{palabra_ingresada[posicion]}]\")\n",
    "        elif palabra_ingresada[posicion] in palabra_correcta:\n",
    "            letras_verificadas.append(f\"({palabra_ingresada[posicion]})\")\n",
    "        else:\n",
    "            letras_verificadas.append(f\" {palabra_ingresada[posicion]} \")\n",
    "    return letras_verificadas\n",
    "\n",
    "palabra_correcta = 'virus'\n",
    "intentos = 6\n",
    "grilla = []\n",
    "print(\"Bienvenido a Wordle\")\n",
    "print(\"----------------------------------\")\n",
    "while intentos > 0:\n",
    "    palabra_ingresada = input(\"Favor ingrese una palabra de 5 letras\")\n",
    "    while len(palabra_ingresada) != len(palabra_correcta):\n",
    "        palabra_ingresada = input(\"Error. Ingrese una palabra de 5 letras\")\n",
    "    linea_verificada = verificar_linea(palabra_ingresada,palabra_correcta)\n",
    "    grilla.append(linea_verificada)\n",
    "    for linea in grilla:\n",
    "        print(linea)\n",
    "    print(\"----------------------------------\")\n",
    "    if palabra_correcta == palabra_ingresada:\n",
    "        print(\"Ganaste amix tqm\")\n",
    "        break\n",
    "    intentos = intentos -1 \n",
    "    print(f\"Te quedan {intentos} intentos\")"
   ]
  }
 ],
 "metadata": {
  "language_info": {
   "name": "python"
  },
  "orig_nbformat": 4
 },
 "nbformat": 4,
 "nbformat_minor": 2
}
