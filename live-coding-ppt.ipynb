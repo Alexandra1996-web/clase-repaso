{
 "cells": [
  {
   "cell_type": "markdown",
   "metadata": {},
   "source": [
    "# Proyecto Piedra Papel o Tijera contra la compu para la clase de repaso o del viernes\n",
    "\n",
    "https://www.youtube.com/watch?v=LT-p_pkOgf4 \n",
    "\n",
    "OTRO VIDEO DE MODELO \n",
    "\n",
    "https://www.youtube.com/watch?v=gqeTkDKjokw\n",
    "\n",
    "\n",
    "SIN QUE LA COMPU JUEGUE \n",
    "\n",
    "https://www.youtube.com/watch?v=rfByCblDiYc\n"
   ]
  },
  {
   "cell_type": "markdown",
   "metadata": {},
   "source": [
    "### DESAFIO HACER UN PROGRAMA QUE JUEGUE PIEDRA, PAPEL O TIJERA TENIENDO AL USUARIO Y LA COMPUTADORA COMO CONTRINCANTES "
   ]
  },
  {
   "cell_type": "code",
   "execution_count": 11,
   "metadata": {},
   "outputs": [
    {
     "name": "stdout",
     "output_type": "stream",
     "text": [
      "El jugador eligió:  piedra\n",
      "La computadora eligió:  tijera\n",
      "Gana el jugador\n"
     ]
    }
   ],
   "source": [
    "import numpy as np \n",
    "import time \n",
    "\n",
    "\n",
    "def piedra_tijera_papel():\n",
    "    #crear un diccionario con las opciones asignadas a lo que vencen \n",
    "    #definir las opciones de las reglas \n",
    "\n",
    "    opciones = {'piedra': 'tijera', 'tijera': 'papel', 'papel': 'piedra'}\n",
    "    #Entrada del jugador \n",
    "    jugador = input('Ingrese piedra, papel o tijera: ') \n",
    "    while jugador not in {'piedra', 'papel', 'tijera'}:\n",
    "        print('Opción no válida') \n",
    "        jugador = input('Ingrese piedra, papel o tijera: ')\n",
    "    #Entrada de la computadora seleccion aleatoria \n",
    "    computadora = np.random.choice(['piedra', 'papel', 'tijera']) \n",
    "    #mostrar las selecciones \n",
    "    time.sleep(2)\n",
    "    print('El jugador eligió: ', jugador)\n",
    "    print('La computadora eligió: ', computadora)\n",
    "    time.sleep(2)\n",
    "    #comparar las selecciones  \n",
    "    if opciones[computadora] == jugador:\n",
    "        print('Ganó la computadora') \n",
    "    elif opciones[jugador] == computadora: \n",
    "        print('Gana el jugador') \n",
    "    else: \n",
    "        print('Empate') \n",
    "piedra_tijera_papel() \n",
    "\n"
   ]
  }
 ],
 "metadata": {
  "kernelspec": {
   "display_name": "Python 3.10.4 64-bit",
   "language": "python",
   "name": "python3"
  },
  "language_info": {
   "codemirror_mode": {
    "name": "ipython",
    "version": 3
   },
   "file_extension": ".py",
   "mimetype": "text/x-python",
   "name": "python",
   "nbconvert_exporter": "python",
   "pygments_lexer": "ipython3",
   "version": "3.10.4"
  },
  "orig_nbformat": 4,
  "vscode": {
   "interpreter": {
    "hash": "aee8b7b246df8f9039afb4144a1f6fd8d2ca17a180786b69acc140d282b71a49"
   }
  }
 },
 "nbformat": 4,
 "nbformat_minor": 2
}
