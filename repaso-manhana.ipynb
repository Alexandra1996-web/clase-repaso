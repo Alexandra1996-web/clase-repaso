{
 "cells": [
  {
   "cell_type": "markdown",
   "metadata": {},
   "source": [
    "# Clase de repaso \n",
    "#### Sabado 10 de diciembre "
   ]
  },
  {
   "cell_type": "markdown",
   "metadata": {},
   "source": [
    "## Variables y tipos de datos \n",
    "\n",
    "- NUmeros enteros (int)\n",
    "- Numeros decimales (float)\n",
    "- Booleanos (bool)\n",
    "- Texto / string (str)"
   ]
  },
  {
   "cell_type": "code",
   "execution_count": null,
   "metadata": {},
   "outputs": [],
   "source": [
    "numero_entero = 10 \n",
    "numero_decimal = 3.14 # siempre tiene el punto \n",
    "texto= 'hola mundo' # siempre tiene la comilla \n",
    "texto2 = \"holaaa\"\n",
    "booleano = False \n",
    "\n",
    "print(type(booleano))"
   ]
  },
  {
   "cell_type": "markdown",
   "metadata": {},
   "source": [
    "## Impresion de textos con print \n",
    "\n",
    "- Con format: Se concatena las variables con llaves. No necesitamos convertir los textos. \n",
    "- Con +: Concatena dos o mas textos. \n",
    "- Con ,: Permite imprimir sin concatenar tipos de datos distintos \n",
    "\n",
    "\n",
    "Concatenacion: permite que dos textos se unan en uno solo, ocurre con + y con format. "
   ]
  },
  {
   "cell_type": "code",
   "execution_count": null,
   "metadata": {},
   "outputs": [],
   "source": [
    "nombre = \"Clau\" \n",
    "edad = 15\n",
    "\n",
    "# Impresion con format\n",
    "print(f'Mi nombre es {nombre} y tengo {edad} ')\n",
    "\n",
    "# Con + (concatena solo textos)\n",
    "print('Mi nombre es '+nombre+' y tengo '+str(edad)) \n",
    "\n",
    "# Con , (separador de elementos y no concatena)\n",
    "print('Mi nombre es', nombre, 'y tengo', edad)"
   ]
  },
  {
   "cell_type": "code",
   "execution_count": null,
   "metadata": {},
   "outputs": [],
   "source": [
    "frase = 'Mi nombre es '+nombre+' y tengo '+str(edad) \n",
    "frase2 = 'Mi nombre es', nombre, 'y tengo', edad\n",
    "print(frase)\n",
    "print(frase2)"
   ]
  },
  {
   "cell_type": "markdown",
   "metadata": {},
   "source": [
    "## Conversion de tipos de datos "
   ]
  },
  {
   "cell_type": "code",
   "execution_count": null,
   "metadata": {},
   "outputs": [],
   "source": [
    "numero1 = 5\n",
    "numero2 = \"10\"\n",
    "\n",
    "# Para hacer esta suma necesitamos que el numero2 sea un numero entero tambien \n",
    "suma = numero1 + int(numero2)\n",
    "print(suma)"
   ]
  },
  {
   "cell_type": "markdown",
   "metadata": {},
   "source": [
    "## Operadores matematicos"
   ]
  },
  {
   "cell_type": "code",
   "execution_count": null,
   "metadata": {},
   "outputs": [],
   "source": [
    "# Hacer una ecuacion matematica \n",
    "# 2x + 3x \n",
    "# Queremos hayar el valor de esa ecuacion cuando x es 4 \n",
    "\n",
    "x = 4 \n",
    "valor_de_la_ecuacion = (2 * x) + (3 * x) \n",
    "print (valor_de_la_ecuacion)"
   ]
  },
  {
   "cell_type": "markdown",
   "metadata": {},
   "source": [
    "## Operadores de relacion o comparacion \n",
    "\n",
    "Nos devuelven un valor booleano (True o False) dependiendo de si es verdad o no lo que preguntamos (lo que le condicionamos)\n"
   ]
  },
  {
   "cell_type": "code",
   "execution_count": null,
   "metadata": {},
   "outputs": [],
   "source": [
    "a = 5\n",
    "b = 13 \n",
    "\n",
    "# A es igual a b?  -> igualdad \n",
    "es_igual = (a == b)\n",
    "\n",
    "# A es diferente a B? -> desigualdad\n",
    "no_es_igual= (a != b)\n",
    "# print(no_es_igual)\n",
    "\n",
    "# Preguntar si es mayor, menor etc \n",
    "# A es mayor a B? 5 > 10??? \n",
    "a_es_mayor = (a > b) \n",
    "# print(a_es_mayor)\n",
    "\n",
    "# Preguntar si es mayor o igual, menor o igual\n",
    "# (a <= b)\n",
    "b_es_mayor_o_igual = (b >= a)\n",
    "#print(b_es_mayor_o_igual)"
   ]
  },
  {
   "cell_type": "markdown",
   "metadata": {},
   "source": [
    "## Condicionales \n",
    "\n",
    "- Es un requisito que se debe de cumplir o no cumplir \n",
    "- Condiciona a que pase o no pase una accion\n",
    "- Limita el orden del proceso \n",
    "\n",
    "\n",
    "#### Sintaxis: \n",
    "- if: si, usamos para preguntar o comparar, implica que se cumpla la condicion y lo que sucedera. \n",
    "- elif: sino si, nos permite hacer otra pregunta en el caso que no se cumpla el primer if\n",
    "- else: Cuando no se cumple ninguna de las condiciones anteriores, se ejecuta en cualquier otro caso.\n",
    "\n",
    "En una estructura condicional, solo puede haber un if y else, pero pueden haber muchos elif.  "
   ]
  },
  {
   "cell_type": "code",
   "execution_count": null,
   "metadata": {},
   "outputs": [],
   "source": [
    "edad = 55 \n",
    "\n",
    "# Si la edad es mayor a 60... \n",
    "if (edad >= 60): \n",
    "    print(\"Ya deberia estar jubilado\")\n",
    "# Si no, si la edad es menor a 20...\n",
    "elif (edad < 20): \n",
    "    print(\"Todavia te falta (mucho)\")\n",
    "# Si no,si la edad es mayor a 50...\n",
    "elif (edad > 50): \n",
    "    print(\"Te falta poquito\")\n",
    "# Si no se cumplio ninguno, implica esto: \n",
    "# Es menor a 60 \n",
    "# Es mayor a 20 \n",
    "else: \n",
    "    print(\"Siga laburando\")"
   ]
  },
  {
   "cell_type": "markdown",
   "metadata": {},
   "source": [
    "## Operadores logicos \n",
    "\n",
    "- and: (y) ambas deben ser verdaderas. \n",
    "- or: (o) solo una es veradera. \n",
    "- not: convertir un valor verdadero a falso y falso a verdadero. \n",
    "\n",
    "\n",
    "#### Ejemplo de Kerana: Como saber cuando usar 'or'? \n",
    "'me voy' y 'no me voy' --> no puede ocurrir a la vez,  \n",
    "\n",
    "'me voy' o 'no me voy' --> solo podemos hacer uno a la vez "
   ]
  },
  {
   "cell_type": "code",
   "execution_count": null,
   "metadata": {},
   "outputs": [],
   "source": [
    "figura = 'triangulo'\n",
    "color = 'amarillo'\n",
    "\n",
    "# Es cuadrado y azul? \n",
    "if (figura == 'cuadrado') and (color == 'azul'): \n",
    "    print(\"Es nuestra figura, el querido BMO \")\n",
    "# Cumple solo una de las condiciones\n",
    "elif (figura == 'cuadrado') or (color == 'azul'):\n",
    "    print(\"Es solo cuadrado o es solo azul\")\n",
    "# Es triangulo y es amarillo \n",
    "elif (figura == 'triangulo') and (color == 'amarillo'): \n",
    "    print(\"Es bill cipher\")\n",
    "# No cumple ninguna de las condiciones\n",
    "else: \n",
    "    print(\"Es un farsante \")"
   ]
  },
  {
   "cell_type": "markdown",
   "metadata": {},
   "source": [
    "## Challenge :D\n",
    "\n",
    "El precio de alquilar un polideportivo es 120.000 guaranies. Dependiendo de las siguientes condiciones, se puede obtener un descuento: \n",
    "\n",
    "- Si es mayor de edad y está trabajando -> Paga el 100%\n",
    "- Si es menor de edad y está trabajando -> Paga el 95%\n",
    "- Si es mayor de edad y no está trabajando -> Paga el 75%\n",
    "- Si es menor de edad y no está trabajando -> Paga el 50%\n",
    "\n",
    "Teniendo la edad de la persona y si trabaja o no, imprimir el precio de alquilar el polideportivo. "
   ]
  }
 ],
 "metadata": {
  "kernelspec": {
   "display_name": "Python 3.10.8 64-bit",
   "language": "python",
   "name": "python3"
  },
  "language_info": {
   "codemirror_mode": {
    "name": "ipython",
    "version": 3
   },
   "file_extension": ".py",
   "mimetype": "text/x-python",
   "name": "python",
   "nbconvert_exporter": "python",
   "pygments_lexer": "ipython3",
   "version": "3.10.8"
  },
  "orig_nbformat": 4,
  "vscode": {
   "interpreter": {
    "hash": "e7370f93d1d0cde622a1f8e1c04877d8463912d04d973331ad4851f04de6915a"
   }
  }
 },
 "nbformat": 4,
 "nbformat_minor": 2
}
