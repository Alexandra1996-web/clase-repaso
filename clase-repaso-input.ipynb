{
 "cells": [
  {
   "cell_type": "markdown",
   "metadata": {},
   "source": [
    "# CONCEPTOS "
   ]
  },
  {
   "cell_type": "markdown",
   "metadata": {},
   "source": [
    "\n",
    "    - Variables\n",
    "    - Tipos de datos\n",
    "    - Concatenación\n",
    "    - Operadores lógicos\n",
    "    - Condicionales (control de flujo)\n",
    "    - Funciones (propias & built-in)\n",
    "    - Bucles\n",
    "\n",
    "\n",
    "### Proyectito: Condicionales\n",
    "\n"
   ]
  },
  {
   "cell_type": "markdown",
   "metadata": {},
   "source": [
    "### Variables y Tipos de Datos \n",
    "\n",
    "\n",
    "Las variables son espacios en memoria de la computadora en los cuales podemos guardar datos durante la ejecución de nuestro programa. \n",
    "\n"
   ]
  },
  {
   "cell_type": "code",
   "execution_count": null,
   "metadata": {},
   "outputs": [],
   "source": [
    "num = 10 #tipo de dato entero --> int\n",
    "palabra = \"hola mundo\" #tipo de dato string (cadena de caracteres) --> str \n",
    "es_verdad = True # tipo de dato boleano (verdadero o falso) --> bool \n",
    "decimal = 1.5 #tipo de dato flotante (decimal) --> float \n"
   ]
  },
  {
   "cell_type": "markdown",
   "metadata": {},
   "source": [
    "# Operaciones aritméticas\n"
   ]
  },
  {
   "cell_type": "code",
   "execution_count": 10,
   "metadata": {},
   "outputs": [
    {
     "name": "stdout",
     "output_type": "stream",
     "text": [
      "15\n",
      "5\n",
      "2.0\n",
      "50\n"
     ]
    }
   ],
   "source": [
    "# suma\n",
    "num_uno = 10\n",
    "num_dos = 5\n",
    "\n",
    "resultado = num_uno + num_dos\n",
    "\n",
    "print(resultado)\n",
    "\n",
    "palabra = \"Hola mundo\"\n",
    "\n",
    "# resultado = num_uno + palabra\n",
    "\n",
    "# print(resultado)\n",
    "\n",
    "# resta\n",
    "\n",
    "resultado = num_uno - num_dos\n",
    "\n",
    "print(resultado)\n",
    "\n",
    "# division (/)\n",
    "\n",
    "resultado = num_uno / num_dos\n",
    "\n",
    "print(resultado)\n",
    "\n",
    "# multiplicacion (*)\n",
    "\n",
    "resultado = num_uno * num_dos\n",
    "\n",
    "print(resultado)\n",
    "\n",
    "\n",
    "\n"
   ]
  },
  {
   "cell_type": "markdown",
   "metadata": {},
   "source": [
    "# jugamos con texto"
   ]
  },
  {
   "cell_type": "code",
   "execution_count": 15,
   "metadata": {},
   "outputs": [
    {
     "name": "stdout",
     "output_type": "stream",
     "text": [
      "hola mundo\n",
      "hola mundo\n"
     ]
    }
   ],
   "source": [
    "# concatenacion\n",
    "\n",
    "texto = \"hola\"\n",
    "texto2 = \"mundo\"\n",
    "\n",
    "resultado = texto + \" \" + texto2\n",
    "\n",
    "print(resultado)\n",
    "\n",
    "#esto no es una concatenacion\n",
    "print(texto,texto2)\n",
    "\n",
    "\n",
    "print(resultado)\n"
   ]
  },
  {
   "cell_type": "code",
   "execution_count": 22,
   "metadata": {},
   "outputs": [
    {
     "name": "stdout",
     "output_type": "stream",
     "text": [
      "Hola soy Pablo y tengo 25 anhos\n",
      "<class 'tuple'>\n"
     ]
    }
   ],
   "source": [
    "nombre = \"Pablo\"\n",
    "edad = 25\n",
    "\n",
    "frase = \"Hola soy \" + nombre + \" y tengo \" + str(edad) + \" anhos\"\n",
    "\n",
    "print(frase)\n",
    "\n",
    "frase2 = \"Hola soy\",nombre,\"y tengo\",edad,\"anhos\"\n",
    "print(type(frase2))\n",
    "\n"
   ]
  },
  {
   "cell_type": "markdown",
   "metadata": {},
   "source": [
    "# Funciones"
   ]
  },
  {
   "cell_type": "code",
   "execution_count": null,
   "metadata": {},
   "outputs": [],
   "source": []
  },
  {
   "cell_type": "markdown",
   "metadata": {},
   "source": [
    "# LIVE CODING"
   ]
  }
 ],
 "metadata": {
  "kernelspec": {
   "display_name": "Python 3.10.4 64-bit",
   "language": "python",
   "name": "python3"
  },
  "language_info": {
   "codemirror_mode": {
    "name": "ipython",
    "version": 3
   },
   "file_extension": ".py",
   "mimetype": "text/x-python",
   "name": "python",
   "nbconvert_exporter": "python",
   "pygments_lexer": "ipython3",
   "version": "3.10.4"
  },
  "orig_nbformat": 4,
  "vscode": {
   "interpreter": {
    "hash": "aee8b7b246df8f9039afb4144a1f6fd8d2ca17a180786b69acc140d282b71a49"
   }
  }
 },
 "nbformat": 4,
 "nbformat_minor": 2
}
