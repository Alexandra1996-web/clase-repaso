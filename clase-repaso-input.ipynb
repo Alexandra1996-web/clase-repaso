{
 "cells": [
  {
   "cell_type": "markdown",
   "metadata": {},
   "source": [
    "# CONCEPTOS "
   ]
  },
  {
   "cell_type": "markdown",
   "metadata": {},
   "source": [
    "\n",
    "    - Variables\n",
    "    - Tipos de datos\n",
    "    - Concatenación\n",
    "    - Operadores lógicos\n",
    "    - Condicionales (control de flujo)\n",
    "    - Funciones (propias & built-in)\n",
    "    - Bucles\n",
    "\n"
   ]
  },
  {
   "cell_type": "markdown",
   "metadata": {},
   "source": [
    "### Variables y Tipos de Datos \n",
    "\n",
    "\n",
    "Las variables son espacios en memoria de la computadora en los cuales podemos guardar datos durante la ejecución de nuestro programa. \n",
    "\n"
   ]
  },
  {
   "cell_type": "code",
   "execution_count": null,
   "metadata": {},
   "outputs": [],
   "source": [
    "num = 10 #tipo de dato entero --> int\n",
    "palabra = \"hola mundo\" #tipo de dato string (cadena de caracteres) --> str \n",
    "es_verdad = True # tipo de dato boleano (verdadero o falso) --> bool \n",
    "decimal = 1.5 #tipo de dato flotante (decimal) --> float \n"
   ]
  },
  {
   "cell_type": "markdown",
   "metadata": {},
   "source": [
    "# Operaciones aritméticas\n"
   ]
  },
  {
   "cell_type": "code",
   "execution_count": 10,
   "metadata": {},
   "outputs": [
    {
     "name": "stdout",
     "output_type": "stream",
     "text": [
      "15\n",
      "5\n",
      "2.0\n",
      "50\n"
     ]
    }
   ],
   "source": [
    "# suma (+)\n",
    "num_uno = 10\n",
    "num_dos = 5\n",
    "\n",
    "resultado = num_uno + num_dos\n",
    "print(resultado)\n",
    "\n",
    "# GENERA UN ERROR INTENTAR SUMAR TIPOS DE DATOS DISTINTOS\n",
    "# palabra = \"Hola mundo\"\n",
    "# resultado = num_uno + palabra \n",
    "# print(resultado)\n",
    "\n",
    "# resta (-)\n",
    "\n",
    "resultado = num_uno - num_dos\n",
    "print(resultado)\n",
    "\n",
    "# division (/)\n",
    "\n",
    "resultado = num_uno / num_dos\n",
    "print(resultado)\n",
    "\n",
    "# multiplicacion (*)\n",
    "\n",
    "resultado = num_uno * num_dos\n",
    "print(resultado)\n",
    "\n"
   ]
  },
  {
   "cell_type": "markdown",
   "metadata": {},
   "source": [
    "# Concatenacion e impresion de textos "
   ]
  },
  {
   "cell_type": "code",
   "execution_count": 15,
   "metadata": {},
   "outputs": [
    {
     "name": "stdout",
     "output_type": "stream",
     "text": [
      "hola mundo\n",
      "hola mundo\n"
     ]
    }
   ],
   "source": [
    "\n",
    "texto = \"hola\"\n",
    "texto2 = \"mundo\"\n",
    "\n",
    "# Forma clasica de concatenar \n",
    "resultado = texto + \" \" + texto2\n",
    "print(resultado)\n",
    "\n",
    "# Impresion de tipos distintos de datos \n",
    "# Esto no es una concatenacion\n",
    "print(texto,texto2) "
   ]
  },
  {
   "cell_type": "code",
   "execution_count": 1,
   "metadata": {},
   "outputs": [
    {
     "name": "stdout",
     "output_type": "stream",
     "text": [
      "Hola soy Pablo y tengo 25 anhos\n",
      "('Hola soy', 'Pablo', 'y tengo', 25, 'anhos')\n"
     ]
    }
   ],
   "source": [
    "nombre = \"Pablo\"\n",
    "edad = 25\n",
    "\n",
    "frase = \"Hola soy \" + nombre + \" y tengo \" + str(edad) + \" anhos\"\n",
    "print(frase)\n",
    "\n",
    "frase2 = \"Hola soy\",nombre,\"y tengo\",edad,\"anhos\"\n",
    "print(frase2)\n",
    "\n"
   ]
  },
  {
   "cell_type": "markdown",
   "metadata": {},
   "source": [
    "# OPERADORES \n",
    "\n",
    "Nos permiten hacer comparaciones de la siguiente manera: \n",
    "\n",
    "- A es igual a B? \n",
    "A == B \n",
    "\n",
    "- A es menor a B? \n",
    "A < B \n",
    "\n",
    "- A es distinto a B? \n",
    "A != B \n",
    "\n",
    "Esta comparacion retorna True si la pregunta es verdad, y retorna False si no es verdad. "
   ]
  },
  {
   "cell_type": "code",
   "execution_count": 8,
   "metadata": {},
   "outputs": [
    {
     "name": "stdout",
     "output_type": "stream",
     "text": [
      "A es igual a B?  False\n",
      "A es menor a B?  True\n",
      "A es mayor a B?  False\n",
      "A es distinto a B?  True\n"
     ]
    }
   ],
   "source": [
    "A = 10\n",
    "B = 15 \n",
    "\n",
    "print(\"A es igual a B? \", A == B)\n",
    "print(\"A es menor a B? \", A < B)\n",
    "print(\"A es mayor a B? \", A > B)\n",
    "print(\"A es distinto a B? \", A != B)"
   ]
  },
  {
   "cell_type": "markdown",
   "metadata": {},
   "source": [
    "# CONDICIONALES \n",
    "\n",
    "Suponiendo como ejemplo un bar, en donde pueden pasar solo las personas mayores de 18 anhos. "
   ]
  },
  {
   "cell_type": "code",
   "execution_count": 9,
   "metadata": {},
   "outputs": [
    {
     "name": "stdout",
     "output_type": "stream",
     "text": [
      "Usted es mayor de edad. Puede pasar \n"
     ]
    }
   ],
   "source": [
    "edad = 19 \n",
    "\n",
    "if edad < 17: \n",
    "    print('Usted es menor de edad. No puede entrar al bar.  ')\n",
    "elif edad == 17: \n",
    "    print('Le falta poquito, pero no puede entrar. ')\n",
    "else: \n",
    "    print('Usted es mayor de edad. Puede pasar ')"
   ]
  },
  {
   "cell_type": "code",
   "execution_count": null,
   "metadata": {},
   "outputs": [],
   "source": [
    "# el if es el guardia\n",
    "redondo1=15\n",
    "redondo2=21\n",
    "redondo3=75\n",
    "\n",
    "if redondo3 >= 18 and redondo3 <= 60:\n",
    "    print(\"entraste kp\")\n",
    "elif redondo3 >= 60:\n",
    "    print(\"itujama kp\")\n",
    "else:\n",
    "    print(\"rebotin\")\n",
    "\n",
    "\n",
    "# Operadores logicos\n",
    "# >= mayor o igual que\n",
    "# <= menor o igual que\n",
    "# == igual\n",
    "# != diferente\n",
    "# and todas las condiciones se deben cumplir\n",
    "# or una de las condiciones debe cumplirse"
   ]
  },
  {
   "cell_type": "markdown",
   "metadata": {},
   "source": [
    "# Funciones"
   ]
  },
  {
   "cell_type": "code",
   "execution_count": 7,
   "metadata": {},
   "outputs": [
    {
     "name": "stdout",
     "output_type": "stream",
     "text": [
      "Buenas, soy jaz y tengo 19 anhos. \n",
      "Naci en 2003\n",
      "Buenas, soy alex y tengo 26 anhos. \n",
      "Naci en 1996\n"
     ]
    }
   ],
   "source": [
    "def imprimir_datos(nombre, edad):\n",
    "    # Imprime el nombre y la edad \n",
    "    print ('Buenas, soy',nombre,'y tengo',edad,'anhos. ')\n",
    "    # Calcula el anho de nacimiento y lo imprime \n",
    "    anho_de_nacimiento = 2022 - edad; \n",
    "    print('Naci en',anho_de_nacimiento) \n",
    "\n",
    "imprimir_datos('jaz', 19)\n",
    "imprimir_datos('alex', 26)\n"
   ]
  },
  {
   "cell_type": "code",
   "execution_count": null,
   "metadata": {},
   "outputs": [],
   "source": [
    "num1 = 1\n",
    "num2 = 2\n",
    "num3 = 6\n",
    "num4 = 2\n",
    "\n",
    "def suma (puerta1,puerta2):\n",
    "    resultado = puerta1 + puerta2\n",
    "    return resultado\n",
    "\n",
    "# operacion1\n",
    "operacion1 = suma(num1,num2)\n",
    "print(operacion1)\n",
    "\n",
    "# operacion2\n",
    "operacion2 = suma(num3,num4)\n",
    "print(operacion2)\n",
    "\n",
    "# operacion3 \n",
    "operacion3 = suma(operacion1,operacion2)\n",
    "print(operacion3)\n",
    "operacion3 = operacion1 + operacion2\n",
    "print(operacion3)\n"
   ]
  },
  {
   "cell_type": "markdown",
   "metadata": {},
   "source": [
    "# Listas"
   ]
  },
  {
   "cell_type": "code",
   "execution_count": 2,
   "metadata": {},
   "outputs": [
    {
     "name": "stdout",
     "output_type": "stream",
     "text": [
      "['pedro', 'pablito', 'pancracio']\n",
      "['fulgencio', 'pablito', 'pancracio']\n",
      "False\n"
     ]
    }
   ],
   "source": [
    "\n",
    "lista1 = [1,'hola', True]\n",
    "# Meter un elemento dentro de una lista\n",
    "lista1.append('kiwi')\n",
    "\n",
    "# Eliminar un elemento dentro de una lista (recibe un indice)\n",
    "lista1.pop(0) #eliminamos el primer elemento\n",
    "\n",
    "# Saber la cantidad de elementos dentro de una lista\n",
    "len(lista1)\n",
    "\n",
    "# Ejemplos de listas \n",
    "palabra = ['h','o','l','a']\n",
    "lista = [1994, 1988, 1992, 1990]\n",
    "\n",
    "# Eliminar un elemento de la lista por valor\n",
    "lista_de_nombres = ['pepe','pedro', 'pablito', 'pancracio']\n",
    "lista_de_nombres.remove('pepe')\n",
    "print(lista_de_nombres)\n",
    "\n",
    "# Sobreescribir un elemento de la lista\n",
    "lista_de_nombres[0] = 'fulgencio'\n",
    "print(lista_de_nombres)\n",
    "\n",
    "# Como saber si un elemento esta en una lista\n",
    "print('pedro' in lista_de_nombres) # devuelve un True or False"
   ]
  },
  {
   "cell_type": "markdown",
   "metadata": {},
   "source": [
    "# Bucle while "
   ]
  },
  {
   "cell_type": "code",
   "execution_count": null,
   "metadata": {},
   "outputs": [],
   "source": [
    "# while significa mientras\n",
    "# vueltas = 0\n",
    "\n",
    "# while vueltas < 5:\n",
    "#     vueltas = vueltas +  1\n",
    "#     print(\"ahora di\", vueltas, \"vuelta(s)\")\n",
    "\n",
    "# print(\"aca estoy fuera del while y tengo el valor de\" , vueltas)\n",
    "\n",
    "numero = 23\n",
    "\n",
    "while True:\n",
    "    numero_ingresado = int(input(\"Pasame un numero\"))\n",
    "    if numero == numero_ingresado:\n",
    "        print(\"acertaste kp\")\n",
    "        break\n",
    "    else:\n",
    "        print(\"erraste kp\")\n"
   ]
  },
  {
   "cell_type": "markdown",
   "metadata": {},
   "source": [
    "# Bucle For "
   ]
  },
  {
   "cell_type": "code",
   "execution_count": null,
   "metadata": {},
   "outputs": [],
   "source": [
    "nombres = ['manu', 123, True]\n",
    "\n",
    "for iterador in nombres:\n",
    "    print(iterador)\n",
    "    # if iterador != 123:\n",
    "\n",
    "# for iterador in range(len(nombres)):\n",
    "#     print(nombres[iterador])"
   ]
  }
 ],
 "metadata": {
  "kernelspec": {
   "display_name": "Python 3.10.8 64-bit",
   "language": "python",
   "name": "python3"
  },
  "language_info": {
   "codemirror_mode": {
    "name": "ipython",
    "version": 3
   },
   "file_extension": ".py",
   "mimetype": "text/x-python",
   "name": "python",
   "nbconvert_exporter": "python",
   "pygments_lexer": "ipython3",
   "version": "3.10.8"
  },
  "orig_nbformat": 4,
  "vscode": {
   "interpreter": {
    "hash": "767d51c1340bd893661ea55ea3124f6de3c7a262a8b4abca0554b478b1e2ff90"
   }
  }
 },
 "nbformat": 4,
 "nbformat_minor": 2
}
