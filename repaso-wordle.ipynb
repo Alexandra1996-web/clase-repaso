{
 "cells": [
  {
   "cell_type": "markdown",
   "metadata": {},
   "source": [
    "## Wordle \n",
    "\n",
    "Adivinar una palabra de 5 letras en 6 intentos \n",
    "\n",
    "- Amarillo () -> Existe la letra en la palabra pero la escribimos en la posicion incorrecta \n",
    "- Verde [] -> Esta en la posicion correcta"
   ]
  },
  {
   "cell_type": "markdown",
   "metadata": {},
   "source": [
    "### Desglosar el wordle \n",
    "\n",
    "1. Necesitamos que el usuario pueda introducir palabras\n",
    "2. Verificar las letras de esa palabra segun los codigos que vimos \n",
    "   1. Ya adivino -> terminar el juego \n",
    "   2. No adivino -> clasificar por color\n",
    "        1. restarle un intento \n",
    "        2. volver a poder introducir palbara si no terminaron los intentos  \n",
    "\n",
    "3. 1 y 2 se van a repetir hasta que... \n",
    "      1. Se adivina la palabra \n",
    "      2. Se acaben los seis intentos "
   ]
  },
  {
   "cell_type": "code",
   "execution_count": 5,
   "metadata": {},
   "outputs": [
    {
     "name": "stdout",
     "output_type": "stream",
     "text": [
      "['l', '(i)', '(n)', '(d)', '[a]']\n",
      "['s', '(a)', 'l', 'o', '(n)']\n",
      "['g', '(a)', 't', 'o', 's']\n",
      "['(a)', 'r', 'b', 'o', 'l']\n",
      "['l', '(a)', 'p', '[i]', 'z']\n",
      "['s', '(i)', 'l', 'l', '[a]']\n",
      "Ya no te quedan intentos... La palabra era india\n"
     ]
    }
   ],
   "source": [
    "# Definiendo las funciones \n",
    "def verificar (palabra_ingresada, palabra_del_dia): \n",
    "    '''\n",
    "    0  1  2  3  4\n",
    "    i  n  d  i  a\n",
    "    l  i  n  d  a\n",
    "    \n",
    "    ['l', '(i)', '(n)','(d)', '[a]']\n",
    "    '''\n",
    "    \n",
    "    letras_verificadas = []\n",
    "    \n",
    "    for posicion in range(5): \n",
    "        letras_iguales = palabra_del_dia [posicion] == palabra_ingresada[posicion]\n",
    "        letra_existe = palabra_ingresada [ posicion] in palabra_del_dia\n",
    "        \n",
    "        if letras_iguales == True: \n",
    "            letras_verificadas.append(\"[\" + palabra_ingresada[posicion] +']') \n",
    "        elif letra_existe == True: \n",
    "            letras_verificadas.append(\"(\" + palabra_ingresada[posicion] +')') \n",
    "        else: \n",
    "            letras_verificadas.append(palabra_ingresada [posicion])\n",
    "            \n",
    "    return letras_verificadas\n",
    "\n",
    "#-----------------------------------------------------------------------    \n",
    "        \n",
    "# Definir las variables que van a ayudar en el ciclo \n",
    "palabra_del_dia = \"india\"\n",
    "intentos_restantes = 6\n",
    "\n",
    "# Comenzamos el ciclo \n",
    "while True: \n",
    "    palabra_ingresada = input (\"Introduzca una palabra\")\n",
    "    \n",
    "    while len(palabra_ingresada) != 5: \n",
    "        palabra_ingresada = input (\"Error: Introduzca una palabra de 5 letras\")\n",
    "    \n",
    "    # si adivino...\n",
    "    if palabra_ingresada == palabra_del_dia: \n",
    "        print(\"Ya ganaste!....\")\n",
    "        break # primer caso: se termina el ciclo porque gano \n",
    "    else: # si no adivino la palabra... \n",
    "        verificadas = verificar(palabra_ingresada, palabra_del_dia)\n",
    "        print(verificadas)\n",
    "        intentos_restantes = intentos_restantes - 1\n",
    "        ''' \n",
    "        intentos_restantes = 6 - 1 \n",
    "        Lo que esta en intentos_restantes, se le resta uno y se guarda en la misma variable \n",
    " -      ''' \n",
    "        # ya no le quedan intentos....\n",
    "        if intentos_restantes == 0: \n",
    "            print(\"Ya no te quedan intentos... La palabra era \"+palabra_del_dia)\n",
    "            break # segundo caso... no le quedan intentos "
   ]
  }
 ],
 "metadata": {
  "kernelspec": {
   "display_name": "Python 3.10.4 64-bit",
   "language": "python",
   "name": "python3"
  },
  "language_info": {
   "codemirror_mode": {
    "name": "ipython",
    "version": 3
   },
   "file_extension": ".py",
   "mimetype": "text/x-python",
   "name": "python",
   "nbconvert_exporter": "python",
   "pygments_lexer": "ipython3",
   "version": "3.10.4"
  },
  "orig_nbformat": 4,
  "vscode": {
   "interpreter": {
    "hash": "aee8b7b246df8f9039afb4144a1f6fd8d2ca17a180786b69acc140d282b71a49"
   }
  }
 },
 "nbformat": 4,
 "nbformat_minor": 2
}
